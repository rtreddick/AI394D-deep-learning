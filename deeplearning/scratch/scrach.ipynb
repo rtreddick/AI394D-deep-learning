{
 "cells": [
  {
   "cell_type": "code",
   "execution_count": 5,
   "metadata": {},
   "outputs": [
    {
     "name": "stdout",
     "output_type": "stream",
     "text": [
      "/Users/timreddick/code/AI394D-deep-learning/deeplearning/homework_04/drive_data/val\n"
     ]
    }
   ],
   "source": [
    "from pathlib import Path\n",
    "\n",
    "from deeplearning.homework_04.grader.datasets import road_dataset\n",
    "\n",
    "path = Path().cwd().parent / \"homework_04\" / \"drive_data\" / \"val\"\n",
    "print(path)\n"
   ]
  },
  {
   "cell_type": "code",
   "execution_count": 6,
   "metadata": {},
   "outputs": [
    {
     "name": "stdout",
     "output_type": "stream",
     "text": [
      "Loaded 2000 samples from 4 episodes\n"
     ]
    }
   ],
   "source": [
    "data = road_dataset.load_data(path)"
   ]
  },
  {
   "cell_type": "code",
   "execution_count": 9,
   "metadata": {},
   "outputs": [
    {
     "name": "stdout",
     "output_type": "stream",
     "text": [
      "Original Tensor:\n",
      "tensor([ 0,  1,  2,  3,  4,  5,  6,  7,  8,  9, 10, 11])\n",
      "\n",
      "Reshaped Tensor (3x4):\n",
      "tensor([[ 0,  1,  2,  3],\n",
      "        [ 4,  5,  6,  7],\n",
      "        [ 8,  9, 10, 11]])\n",
      "\n",
      "Reshaped Tensor (2x2x3):\n",
      "tensor([[[ 0,  1,  2],\n",
      "         [ 3,  4,  5]],\n",
      "\n",
      "        [[ 6,  7,  8],\n",
      "         [ 9, 10, 11]]])\n",
      "\n",
      "Original Tensor After Reshaping:\n",
      "tensor([ 0,  1,  2,  3,  4,  5,  6,  7,  8,  9, 10, 11])\n",
      "\n",
      "Reshaped Tensor with -1 (3x-1):\n",
      "tensor([[ 0,  1,  2,  3],\n",
      "        [ 4,  5,  6,  7],\n",
      "        [ 8,  9, 10, 11]])\n"
     ]
    }
   ],
   "source": [
    "import torch\n",
    "\n",
    "# Create a 1D tensor with 12 elements\n",
    "original_tensor = torch.arange(12)\n",
    "print(\"Original Tensor:\")\n",
    "print(original_tensor)\n",
    "\n",
    "# Reshape the tensor into a 2D tensor of shape (3, 4)\n",
    "reshaped_tensor = original_tensor.reshape(3, 4)\n",
    "print(\"\\nReshaped Tensor (3x4):\")\n",
    "print(reshaped_tensor)\n",
    "\n",
    "# Reshape the tensor into a 3D tensor of shape (2, 2, 3)\n",
    "reshaped_tensor_3d = original_tensor.reshape(2, 2, 3)\n",
    "print(\"\\nReshaped Tensor (2x2x3):\")\n",
    "print(reshaped_tensor_3d)\n",
    "\n",
    "# Demonstrating that the original tensor remains unchanged\n",
    "print(\"\\nOriginal Tensor After Reshaping:\")\n",
    "print(original_tensor)\n",
    "\n",
    "# What does -1 mean in reshape?\n",
    "# The -1 in reshape allows PyTorch to automatically calculate the size of that dimension based on the other dimensions and the total number of elements.\n",
    "# For example, if we want to reshape the original tensor into a shape of (3, -1), PyTorch will automatically determine the second dimension size.\n",
    "reshaped_tensor_auto = original_tensor.reshape(3, -1)\n",
    "print(\"\\nReshaped Tensor with -1 (3x-1):\")\n",
    "print(reshaped_tensor_auto)\n"
   ]
  },
  {
   "cell_type": "code",
   "execution_count": null,
   "metadata": {},
   "outputs": [],
   "source": []
  }
 ],
 "metadata": {
  "kernelspec": {
   "display_name": ".venv",
   "language": "python",
   "name": "python3"
  },
  "language_info": {
   "codemirror_mode": {
    "name": "ipython",
    "version": 3
   },
   "file_extension": ".py",
   "mimetype": "text/x-python",
   "name": "python",
   "nbconvert_exporter": "python",
   "pygments_lexer": "ipython3",
   "version": "3.12.8"
  }
 },
 "nbformat": 4,
 "nbformat_minor": 2
}
