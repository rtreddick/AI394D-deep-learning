{
 "cells": [
  {
   "cell_type": "code",
   "execution_count": 1,
   "metadata": {},
   "outputs": [
    {
     "name": "stdout",
     "output_type": "stream",
     "text": [
      "tensor([1., 2., 3.])\n"
     ]
    }
   ],
   "source": [
    "import torch\n",
    "\n",
    "a = torch.tensor([1, 2, 3], dtype=torch.float32)\n",
    "print(a)"
   ]
  },
  {
   "cell_type": "code",
   "execution_count": 2,
   "metadata": {},
   "outputs": [
    {
     "name": "stdout",
     "output_type": "stream",
     "text": [
      "tensor([[[0.9015, 0.6950, 0.9186],\n",
      "         [0.2787, 0.8886, 0.2835],\n",
      "         [0.4964, 0.4520, 0.3883]],\n",
      "\n",
      "        [[0.3830, 0.3308, 0.9887],\n",
      "         [0.3215, 0.1876, 0.6071],\n",
      "         [0.1998, 0.9852, 0.2075]],\n",
      "\n",
      "        [[0.1797, 0.9807, 0.7238],\n",
      "         [0.9294, 0.0499, 0.8757],\n",
      "         [0.2491, 0.9299, 0.1699]]])\n"
     ]
    }
   ],
   "source": [
    "b = torch.rand([3, 3, 3], dtype=torch.float32)\n",
    "print(b)"
   ]
  },
  {
   "cell_type": "code",
   "execution_count": 3,
   "metadata": {},
   "outputs": [
    {
     "name": "stdout",
     "output_type": "stream",
     "text": [
      "torch.Size([1602, 1200, 3])\n"
     ]
    }
   ],
   "source": [
    "from PIL import Image\n",
    "import numpy as np\n",
    "\n",
    "img = Image.open(\"cat.jpg\")\n",
    "c = torch.as_tensor(np.array(img))\n",
    "print(c.shape)"
   ]
  },
  {
   "cell_type": "code",
   "execution_count": 4,
   "metadata": {},
   "outputs": [
    {
     "name": "stdout",
     "output_type": "stream",
     "text": [
      "a = tensor([0, 1, 2, 3, 4, 5, 6, 7, 8, 9])\n",
      "b = tensor([1., 1., 1., 1., 1., 1., 1., 1., 1., 1.])\n",
      "a + b = tensor([ 1.,  2.,  3.,  4.,  5.,  6.,  7.,  8.,  9., 10.])\n"
     ]
    }
   ],
   "source": [
    "a = torch.arange(10)\n",
    "b = torch.ones(10)\n",
    "print(f\"{a = }\")\n",
    "print(f\"{b = }\")\n",
    "print(f\"{a + b = }\")"
   ]
  },
  {
   "cell_type": "code",
   "execution_count": 5,
   "metadata": {},
   "outputs": [
    {
     "ename": "RuntimeError",
     "evalue": "The size of tensor a (4) must match the size of tensor b (5) at non-singleton dimension 0",
     "output_type": "error",
     "traceback": [
      "\u001b[0;31m---------------------------------------------------------------------------\u001b[0m",
      "\u001b[0;31mRuntimeError\u001b[0m                              Traceback (most recent call last)",
      "Cell \u001b[0;32mIn[5], line 3\u001b[0m\n\u001b[1;32m      1\u001b[0m a \u001b[38;5;241m=\u001b[39m torch\u001b[38;5;241m.\u001b[39mrand(\u001b[38;5;241m4\u001b[39m)\n\u001b[1;32m      2\u001b[0m b \u001b[38;5;241m=\u001b[39m torch\u001b[38;5;241m.\u001b[39mrand(\u001b[38;5;241m5\u001b[39m)\n\u001b[0;32m----> 3\u001b[0m \u001b[38;5;28mprint\u001b[39m(\u001b[38;5;124mf\u001b[39m\u001b[38;5;124m\"\u001b[39m\u001b[38;5;132;01m{\u001b[39;00m\u001b[43ma\u001b[49m\u001b[38;5;250;43m \u001b[39;49m\u001b[38;5;241;43m+\u001b[39;49m\u001b[38;5;250;43m \u001b[39;49m\u001b[43mb\u001b[49m\u001b[38;5;250m \u001b[39m\u001b[38;5;132;01m=}\u001b[39;00m\u001b[38;5;124m\"\u001b[39m)\n",
      "\u001b[0;31mRuntimeError\u001b[0m: The size of tensor a (4) must match the size of tensor b (5) at non-singleton dimension 0"
     ]
    }
   ],
   "source": [
    "a = torch.rand(4)\n",
    "b = torch.rand(5)\n",
    "print(f\"{a + b =}\")"
   ]
  },
  {
   "cell_type": "code",
   "execution_count": 29,
   "metadata": {},
   "outputs": [],
   "source": [
    "a = torch.rand(1_000_000_000, device=\"mps\")\n",
    "b = torch.rand(1_000_000_000, device=\"mps\")\n",
    "c = a + b"
   ]
  },
  {
   "cell_type": "code",
   "execution_count": 30,
   "metadata": {},
   "outputs": [
    {
     "data": {
      "text/plain": [
       "0"
      ]
     },
     "execution_count": 30,
     "metadata": {},
     "output_type": "execute_result"
    }
   ],
   "source": [
    "import gc\n",
    "\n",
    "del a\n",
    "del b\n",
    "\n",
    "gc.collect()"
   ]
  },
  {
   "cell_type": "code",
   "execution_count": 32,
   "metadata": {},
   "outputs": [
    {
     "data": {
      "text/plain": [
       "tensor([[0, 1, 2],\n",
       "        [3, 4, 5]])"
      ]
     },
     "execution_count": 32,
     "metadata": {},
     "output_type": "execute_result"
    }
   ],
   "source": [
    "a = torch.arange(6)\n",
    "# a.shape\n",
    "# a.view(2, 3) # doesn't copy underlying data\n",
    "a.reshape(2, 3) # copies underlying data"
   ]
  },
  {
   "cell_type": "code",
   "execution_count": 33,
   "metadata": {},
   "outputs": [
    {
     "name": "stdout",
     "output_type": "stream",
     "text": [
      "tensor([[0.8241, 0.1304, 0.5939],\n",
      "        [0.4855, 0.8021, 0.2884]])\n",
      "tensor([[0.8241, 0.4855],\n",
      "        [0.1304, 0.8021],\n",
      "        [0.5939, 0.2884]])\n"
     ]
    }
   ],
   "source": [
    "a = torch.rand(2, 3)\n",
    "print(a)\n",
    "print(a.mT)"
   ]
  },
  {
   "cell_type": "code",
   "execution_count": 35,
   "metadata": {},
   "outputs": [
    {
     "name": "stdout",
     "output_type": "stream",
     "text": [
      "tensor([[[0.6004, 0.1818, 0.8273, 0.2527],\n",
      "         [0.7550, 0.2499, 0.6964, 0.6842],\n",
      "         [0.6905, 0.4702, 0.2954, 0.2687]],\n",
      "\n",
      "        [[0.7994, 0.2788, 0.6374, 0.3235],\n",
      "         [0.3576, 0.0173, 0.5572, 0.7696],\n",
      "         [0.7770, 0.8057, 0.2735, 0.4764]]])\n",
      "tensor([[[0.6004, 0.7994],\n",
      "         [0.1818, 0.2788],\n",
      "         [0.8273, 0.6374],\n",
      "         [0.2527, 0.3235]],\n",
      "\n",
      "        [[0.7550, 0.3576],\n",
      "         [0.2499, 0.0173],\n",
      "         [0.6964, 0.5572],\n",
      "         [0.6842, 0.7696]],\n",
      "\n",
      "        [[0.6905, 0.7770],\n",
      "         [0.4702, 0.8057],\n",
      "         [0.2954, 0.2735],\n",
      "         [0.2687, 0.4764]]])\n"
     ]
    }
   ],
   "source": [
    "a = torch.rand(2, 3, 4)\n",
    "print(a)\n",
    "print(a.permute(1, 2, 0))"
   ]
  },
  {
   "cell_type": "code",
   "execution_count": 37,
   "metadata": {},
   "outputs": [
    {
     "name": "stdout",
     "output_type": "stream",
     "text": [
      "torch.Size([1, 6, 1])\n",
      "tensor([0, 1, 2, 3, 4, 5])\n",
      "tensor([[[0],\n",
      "         [1],\n",
      "         [2],\n",
      "         [3],\n",
      "         [4],\n",
      "         [5]]])\n"
     ]
    }
   ],
   "source": [
    "a = torch.arange(6)\n",
    "b = a[None, :, None]\n",
    "print(b.shape)\n",
    "print(a)\n",
    "print(b)\n"
   ]
  },
  {
   "cell_type": "code",
   "execution_count": 41,
   "metadata": {},
   "outputs": [
    {
     "name": "stdout",
     "output_type": "stream",
     "text": [
      "torch.Size([1, 3, 2, 1])\n",
      "tensor([[0, 1],\n",
      "        [2, 3],\n",
      "        [4, 5]])\n",
      "tensor([[[[0],\n",
      "          [1]],\n",
      "\n",
      "         [[2],\n",
      "          [3]],\n",
      "\n",
      "         [[4],\n",
      "          [5]]]])\n"
     ]
    }
   ],
   "source": [
    "a = torch.arange(6).view(3, 2)\n",
    "b = a[None, :, :, None]\n",
    "print(b.shape)\n",
    "print(a)\n",
    "print(b)\n"
   ]
  },
  {
   "cell_type": "code",
   "execution_count": 45,
   "metadata": {},
   "outputs": [
    {
     "name": "stdout",
     "output_type": "stream",
     "text": [
      "torch.Size([3, 2, 1])\n"
     ]
    }
   ],
   "source": [
    "a = torch.arange(6).view(3, 2, 1, 1)\n",
    "# print(a[..., 0].shape)\n",
    "print(a.squeeze(-1).shape)\n",
    "# print(a.squeeze().shape) # NEVER DO THIS, i.e. call squeeze without specifying the dimension"
   ]
  },
  {
   "cell_type": "code",
   "execution_count": 53,
   "metadata": {},
   "outputs": [
    {
     "name": "stdout",
     "output_type": "stream",
     "text": [
      "a = tensor([[0],\n",
      "        [1],\n",
      "        [2],\n",
      "        [3]])\n",
      "b = tensor([[ 0, 10, 20, 30, 40]])\n",
      "a + b = tensor([[ 0, 10, 20, 30, 40],\n",
      "        [ 1, 11, 21, 31, 41],\n",
      "        [ 2, 12, 22, 32, 42],\n",
      "        [ 3, 13, 23, 33, 43]])\n",
      "a * b = tensor([[  0,   0,   0,   0,   0],\n",
      "        [  0,  10,  20,  30,  40],\n",
      "        [  0,  20,  40,  60,  80],\n",
      "        [  0,  30,  60,  90, 120]])\n"
     ]
    }
   ],
   "source": [
    "# broadcasting\n",
    "a = torch.arange(4).view(4, 1)\n",
    "b = torch.arange(5).view(1, 5)*10\n",
    "print(f\"{a = }\")\n",
    "print(f\"{b = }\")\n",
    "print(f\"{a + b = }\")\n",
    "print(f\"{a * b = }\")"
   ]
  },
  {
   "cell_type": "code",
   "execution_count": 54,
   "metadata": {},
   "outputs": [
    {
     "data": {
      "text/plain": [
       "tensor([[1.2179, 0.9018, 0.6231, 1.3489, 1.1937],\n",
       "        [0.9727, 0.7536, 0.5512, 1.3665, 1.3673]])"
      ]
     },
     "execution_count": 54,
     "metadata": {},
     "output_type": "execute_result"
    }
   ],
   "source": [
    "a = torch.rand(2, 4)\n",
    "b = torch.rand(4, 5)\n",
    "a @ b"
   ]
  },
  {
   "cell_type": "code",
   "execution_count": 55,
   "metadata": {},
   "outputs": [],
   "source": [
    "x = torch.randn(10, 2)\n",
    "d = torch.zeros(10, 10)\n",
    "for i in range(10):\n",
    "    for j in range(10):\n",
    "        d[i, j] = (x[i] - x[j]).pow(2).sum()\n",
    "\n",
    "d = (x[:, None, :] - x[None, :, :]).pow(2).sum(-1)"
   ]
  },
  {
   "cell_type": "code",
   "execution_count": 56,
   "metadata": {},
   "outputs": [
    {
     "name": "stdout",
     "output_type": "stream",
     "text": [
      "tensor(20.9373) (5, 8)\n",
      "tensor(20.9373) (tensor(5), tensor(8))\n"
     ]
    }
   ],
   "source": [
    "x = torch.randn(10, 2)\n",
    "d = torch.zeros(10, 10)\n",
    "max_dist, max_idx = 0, (-1, -1)\n",
    "for i in range(10):\n",
    "    for j in range(10):\n",
    "        if (x[i] - x[j]).pow(2).sum() > max_dist:\n",
    "            max_dist, max_idx = (x[i] - x[j]).pow(2).sum(), (i, j)\n",
    "\n",
    "print(max_dist, max_idx)\n",
    "\n",
    "d = (x[:, None, :] - x[None, :, :]).pow(2).sum(-1)\n",
    "print(d.max(), (d.argmax() // 10, d.argmax() % 10))"
   ]
  },
  {
   "cell_type": "code",
   "execution_count": 57,
   "metadata": {},
   "outputs": [
    {
     "name": "stdout",
     "output_type": "stream",
     "text": [
      "torch.Size([2])\n",
      "tensor(0.9717)\n"
     ]
    }
   ],
   "source": [
    "a = torch.rand(2, 4)\n",
    "b = torch.rand(4)\n",
    "c = b @ a.mT\n",
    "print(c.shape)\n",
    "print(torch.linalg.norm(b))\n",
    "# print(b.pow(2).sum().sqrt())"
   ]
  }
 ],
 "metadata": {
  "kernelspec": {
   "display_name": "deeplearning",
   "language": "python",
   "name": "python3"
  },
  "language_info": {
   "codemirror_mode": {
    "name": "ipython",
    "version": 3
   },
   "file_extension": ".py",
   "mimetype": "text/x-python",
   "name": "python",
   "nbconvert_exporter": "python",
   "pygments_lexer": "ipython3",
   "version": "3.11.11"
  }
 },
 "nbformat": 4,
 "nbformat_minor": 2
}
