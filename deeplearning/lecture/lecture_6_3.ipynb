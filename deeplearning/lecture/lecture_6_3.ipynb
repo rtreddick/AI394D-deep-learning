{
 "cells": [
  {
   "cell_type": "code",
   "execution_count": null,
   "id": "685c884a",
   "metadata": {
    "execution": {
     "iopub.execute_input": "2024-06-09T08:23:21.064541Z",
     "iopub.status.busy": "2024-06-09T08:23:21.064156Z",
     "iopub.status.idle": "2024-06-09T08:23:22.081140Z",
     "shell.execute_reply": "2024-06-09T08:23:22.080362Z"
    }
   },
   "outputs": [],
   "source": [
    "import torch"
   ]
  },
  {
   "cell_type": "code",
   "execution_count": null,
   "id": "0004ad12",
   "metadata": {
    "execution": {
     "iopub.execute_input": "2024-06-09T08:23:22.083422Z",
     "iopub.status.busy": "2024-06-09T08:23:22.083190Z",
     "iopub.status.idle": "2024-06-09T08:23:22.087584Z",
     "shell.execute_reply": "2024-06-09T08:23:22.087188Z"
    }
   },
   "outputs": [],
   "source": [
    "torch_attention = torch.nn.MultiheadAttention(16, 4, 0, batch_first=True)"
   ]
  },
  {
   "cell_type": "code",
   "execution_count": null,
   "id": "d90a75a9",
   "metadata": {
    "execution": {
     "iopub.execute_input": "2024-06-09T08:23:22.089519Z",
     "iopub.status.busy": "2024-06-09T08:23:22.089370Z",
     "iopub.status.idle": "2024-06-09T08:23:22.094782Z",
     "shell.execute_reply": "2024-06-09T08:23:22.094225Z"
    }
   },
   "outputs": [],
   "source": [
    "k, v, q = torch.rand(10, 3, 16), torch.rand(10, 3, 16), torch.rand(10, 5, 16)\n",
    "o, _ = torch_attention(q, k, v)\n",
    "print(o.shape)\n",
    "print([(n, v.shape) for n, v in list(torch_attention.named_parameters())])"
   ]
  },
  {
   "cell_type": "code",
   "execution_count": null,
   "id": "02224189",
   "metadata": {
    "execution": {
     "iopub.execute_input": "2024-06-09T08:23:22.096725Z",
     "iopub.status.busy": "2024-06-09T08:23:22.096572Z",
     "iopub.status.idle": "2024-06-09T08:23:22.619701Z",
     "shell.execute_reply": "2024-06-09T08:23:22.619192Z"
    }
   },
   "outputs": [],
   "source": [
    "class MHA(torch.nn.Module):\n",
    "    def __init__(self, embed_dim, num_heads):\n",
    "        super().__init__()\n",
    "        self.in_proj_k = torch.nn.Linear(embed_dim, embed_dim)\n",
    "        self.in_proj_v = torch.nn.Linear(embed_dim, embed_dim)\n",
    "        self.in_proj_q = torch.nn.Linear(embed_dim, embed_dim)\n",
    "        self.out_proj = torch.nn.Linear(embed_dim, embed_dim)\n",
    "        self.n_heads = num_heads\n",
    "\n",
    "    def forward(self, q, k, v):\n",
    "        from einops import rearrange\n",
    "\n",
    "        p_q, p_k, p_v = self.in_proj_q(q), self.in_proj_k(k), self.in_proj_v(v)\n",
    "\n",
    "        r_q = rearrange(p_q, \"b m (h d) -> b h m d\", h=self.n_heads)\n",
    "        r_k = rearrange(p_k, \"b n (h d) -> b h n d\", h=self.n_heads)\n",
    "        r_v = rearrange(p_v, \"b n (h d) -> b h n d\", h=self.n_heads)\n",
    "\n",
    "        scores = torch.einsum(\"b h m d, b h n d -> b h m n\", r_q, r_k)\n",
    "        attn = torch.nn.functional.softmax(scores, dim=-1)\n",
    "        result = torch.einsum(\"b h m n, b h n d -> b h m d\", attn, r_v)\n",
    "        r_result = rearrange(result, \"b h m d -> b m (h d)\")\n",
    "        return self.out_proj(r_result)\n",
    "\n",
    "\n",
    "our_attention = MHA(16, 4)\n",
    "o_our = our_attention(q, k, v)\n",
    "o_torch, _ = torch_attention(q, k, v)\n",
    "\n",
    "print(o_our.shape, o_torch.shape)"
   ]
  },
  {
   "cell_type": "code",
   "execution_count": null,
   "id": "487c9472",
   "metadata": {},
   "outputs": [],
   "source": []
  }
 ],
 "metadata": {
  "kernelspec": {
   "display_name": ".venv",
   "language": "python",
   "name": "python3"
  },
  "language_info": {
   "codemirror_mode": {
    "name": "ipython",
    "version": 3
   },
   "file_extension": ".py",
   "mimetype": "text/x-python",
   "name": "python",
   "nbconvert_exporter": "python",
   "pygments_lexer": "ipython3",
   "version": "3.12.8"
  }
 },
 "nbformat": 4,
 "nbformat_minor": 5
}
