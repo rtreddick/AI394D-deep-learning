{
 "cells": [
  {
   "cell_type": "code",
   "execution_count": 1,
   "metadata": {},
   "outputs": [],
   "source": [
    "import torch\n",
    "import torch.distributions as dist\n"
   ]
  },
  {
   "cell_type": "code",
   "execution_count": 16,
   "metadata": {},
   "outputs": [
    {
     "name": "stdout",
     "output_type": "stream",
     "text": [
      "Bernoulli(probs: tensor([0.5000]))\n",
      "tensor([1.])\n",
      "tensor([1.])\n",
      "tensor([1.])\n",
      "tensor([1.])\n",
      "tensor([1.])\n",
      "tensor([0.])\n",
      "tensor([0.])\n",
      "tensor([0.])\n",
      "tensor([1.])\n",
      "tensor([0.])\n"
     ]
    }
   ],
   "source": [
    "## Create a Bernoulli distribution\n",
    "bernoulli = dist.Bernoulli(probs=torch.tensor([0.5]))\n",
    "print(bernoulli)\n",
    "\n",
    "## Sample from the distribution\n",
    "for _ in range(10):\n",
    "    print(bernoulli.sample())"
   ]
  },
  {
   "cell_type": "code",
   "execution_count": 17,
   "metadata": {},
   "outputs": [
    {
     "name": "stdout",
     "output_type": "stream",
     "text": [
      "Mean: 0.5109999775886536\n",
      "Variance: 0.2501291334629059\n"
     ]
    }
   ],
   "source": [
    "samples = [bernoulli.sample() for _ in range(1000)]\n",
    "print(f\"Mean: {torch.mean(torch.stack(samples))}\")\n",
    "print(f\"Variance: {torch.var(torch.stack(samples))}\")"
   ]
  },
  {
   "cell_type": "code",
   "execution_count": 19,
   "metadata": {},
   "outputs": [
    {
     "name": "stdout",
     "output_type": "stream",
     "text": [
      "tensor([0.3758])\n",
      "tensor([3.1852])\n",
      "tensor([0.4641])\n",
      "tensor([0.3552])\n",
      "tensor([-2.0012])\n",
      "tensor([0.1633])\n",
      "tensor([-0.2847])\n",
      "tensor([-0.1499])\n",
      "tensor([0.6234])\n",
      "tensor([0.0490])\n"
     ]
    }
   ],
   "source": [
    "### Create a Normal distribution\n",
    "normal = dist.Normal(loc=torch.tensor([0.0]), scale=torch.tensor([1.0]))\n",
    "\n",
    "## Sample from the distribution\n",
    "for _ in range(10):\n",
    "    print(normal.sample())"
   ]
  },
  {
   "cell_type": "code",
   "execution_count": 25,
   "metadata": {},
   "outputs": [
    {
     "name": "stdout",
     "output_type": "stream",
     "text": [
      "Mean: -0.027174880728125572\n",
      "Variance: 0.9410486817359924\n"
     ]
    }
   ],
   "source": [
    "# Sample from the distribution\n",
    "samples = [normal.sample() for _ in range(1000)]\n",
    "print(f\"Mean: {torch.mean(torch.stack(samples))}\")\n",
    "print(f\"Variance: {torch.var(torch.stack(samples))}\")"
   ]
  }
 ],
 "metadata": {
  "kernelspec": {
   "display_name": "deeplearning",
   "language": "python",
   "name": "python3"
  },
  "language_info": {
   "codemirror_mode": {
    "name": "ipython",
    "version": 3
   },
   "file_extension": ".py",
   "mimetype": "text/x-python",
   "name": "python",
   "nbconvert_exporter": "python",
   "pygments_lexer": "ipython3",
   "version": "3.11.11"
  }
 },
 "nbformat": 4,
 "nbformat_minor": 2
}
