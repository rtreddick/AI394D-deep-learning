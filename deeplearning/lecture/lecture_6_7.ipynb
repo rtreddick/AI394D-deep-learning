{
 "cells": [
  {
   "cell_type": "code",
   "execution_count": null,
   "id": "aa81be86",
   "metadata": {
    "execution": {
     "iopub.execute_input": "2024-06-09T08:23:11.369574Z",
     "iopub.status.busy": "2024-06-09T08:23:11.368985Z",
     "iopub.status.idle": "2024-06-09T08:23:12.487562Z",
     "shell.execute_reply": "2024-06-09T08:23:12.486998Z"
    }
   },
   "outputs": [],
   "source": [
    "import torch"
   ]
  },
  {
   "cell_type": "code",
   "execution_count": null,
   "id": "ae3b6fff",
   "metadata": {
    "execution": {
     "iopub.execute_input": "2024-06-09T08:23:12.490667Z",
     "iopub.status.busy": "2024-06-09T08:23:12.490348Z",
     "iopub.status.idle": "2024-06-09T08:23:12.520188Z",
     "shell.execute_reply": "2024-06-09T08:23:12.519512Z"
    }
   },
   "outputs": [],
   "source": [
    "class TransformerLayer(torch.nn.Module):\n",
    "    def __init__(self, embed_dim, num_heads):\n",
    "        super().__init__()\n",
    "\n",
    "        self.self_att = torch.nn.MultiheadAttention(embed_dim, num_heads, batch_first=True)\n",
    "        self.mlp = torch.nn.Sequential(\n",
    "            torch.nn.Linear(embed_dim, 4 * embed_dim), torch.nn.ReLU(), torch.nn.Linear(4 * embed_dim, embed_dim)\n",
    "        )\n",
    "        self.in_norm = torch.nn.LayerNorm(embed_dim)\n",
    "        self.mlp_norm = torch.nn.LayerNorm(embed_dim)\n",
    "\n",
    "    def forward(self, x):\n",
    "        x_norm = self.in_norm(x)\n",
    "        x = x + self.self_att(x_norm, x_norm, x_norm)[0]\n",
    "        x = x + self.mlp(self.mlp_norm(x))\n",
    "        return x\n",
    "\n",
    "\n",
    "class Transformer(torch.nn.Module):\n",
    "    def __init__(self, embed_dim, num_heads, num_layers):\n",
    "        super().__init__()\n",
    "        self.network = torch.nn.Sequential(*[TransformerLayer(embed_dim, num_heads) for _ in range(num_layers)])\n",
    "\n",
    "    def forward(self, x):\n",
    "        return self.network(x)\n",
    "\n",
    "\n",
    "net = Transformer(128, 8, 4)\n",
    "net(torch.rand(16, 10, 128)).shape"
   ]
  },
  {
   "cell_type": "code",
   "execution_count": null,
   "id": "6ce99c9d",
   "metadata": {},
   "outputs": [],
   "source": []
  }
 ],
 "metadata": {
  "kernelspec": {
   "display_name": "base",
   "language": "python",
   "name": "python3"
  },
  "language_info": {
   "codemirror_mode": {
    "name": "ipython",
    "version": 3
   },
   "file_extension": ".py",
   "mimetype": "text/x-python",
   "name": "python",
   "nbconvert_exporter": "python",
   "pygments_lexer": "ipython3",
   "version": "3.11.5"
  }
 },
 "nbformat": 4,
 "nbformat_minor": 5
}
