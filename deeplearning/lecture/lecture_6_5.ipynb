{
 "cells": [
  {
   "cell_type": "code",
   "execution_count": null,
   "id": "a60b11e4",
   "metadata": {
    "execution": {
     "iopub.execute_input": "2024-06-09T08:35:59.928898Z",
     "iopub.status.busy": "2024-06-09T08:35:59.928614Z",
     "iopub.status.idle": "2024-06-09T08:36:01.096664Z",
     "shell.execute_reply": "2024-06-09T08:36:01.096052Z"
    }
   },
   "outputs": [],
   "source": [
    "import numpy as np\n",
    "import torch\n",
    "from PIL import Image\n",
    "\n",
    "im = Image.open(\"rose_crop.jpg\")\n",
    "im_small = im.resize((128, 128))\n",
    "im_small"
   ]
  },
  {
   "cell_type": "code",
   "execution_count": null,
   "id": "08be0150",
   "metadata": {
    "execution": {
     "iopub.execute_input": "2024-06-09T08:36:01.099713Z",
     "iopub.status.busy": "2024-06-09T08:36:01.099295Z",
     "iopub.status.idle": "2024-06-09T08:36:01.104474Z",
     "shell.execute_reply": "2024-06-09T08:36:01.103900Z"
    },
    "lines_to_next_cell": 2
   },
   "outputs": [],
   "source": [
    "\n",
    "\n",
    "class PositionalEmbedding(torch.nn.Module):\n",
    "    def __init__(self, embed_dim):\n",
    "        super().__init__()\n",
    "        self.freq = torch.exp(torch.arange(0, embed_dim, 2).float() / 2)\n",
    "\n",
    "    def forward(self, x):\n",
    "        # x.shape  B x 2\n",
    "        x = x[..., None, :] * self.freq[..., None].to(x.device)\n",
    "        return torch.cat([torch.sin(x), torch.cos(x)], dim=-1).view(*x.shape[:-2], -1)\n",
    "\n",
    "\n",
    "# f, ax = plt.subplots(3, 3, figsize=(5, 5))\n",
    "\n",
    "# pe = PositionalEmbedding(8)\n",
    "# e = pe(torch.linspace(-1, 1, 100)[:, None])\n",
    "# for i in range(8):\n",
    "#     ax[i // 3, i % 3].plot(e[:, i].numpy())"
   ]
  },
  {
   "cell_type": "code",
   "execution_count": null,
   "id": "ecd08f96",
   "metadata": {
    "execution": {
     "iopub.execute_input": "2024-06-09T08:36:01.107126Z",
     "iopub.status.busy": "2024-06-09T08:36:01.106801Z",
     "iopub.status.idle": "2024-06-09T08:36:21.749977Z",
     "shell.execute_reply": "2024-06-09T08:36:21.749479Z"
    }
   },
   "outputs": [],
   "source": [
    "\n",
    "\n",
    "class Rose(torch.nn.Module):\n",
    "    def __init__(self):\n",
    "        super().__init__()\n",
    "        self.enc = PositionalEmbedding(12)\n",
    "        self.net = torch.nn.Sequential(\n",
    "            torch.nn.Linear(24, 256),\n",
    "            torch.nn.ReLU(),\n",
    "            torch.nn.Linear(256, 128),\n",
    "            torch.nn.ReLU(),\n",
    "            torch.nn.Linear(128, 64),\n",
    "            torch.nn.ReLU(),\n",
    "            torch.nn.Linear(64, 3),\n",
    "        )\n",
    "\n",
    "    def forward(self, x):\n",
    "        return self.net(self.enc(x))\n",
    "\n",
    "\n",
    "rose_tensor = torch.as_tensor(np.array(im_small), dtype=torch.float32) / 255.0 - 0.5\n",
    "position = torch.stack(torch.meshgrid(torch.linspace(-1, 1, 128), torch.linspace(-1, 1, 128)), dim=-1)\n",
    "\n",
    "\n",
    "net = Rose()\n",
    "\n",
    "rose_tensor = rose_tensor.cuda()\n",
    "position = position.cuda()\n",
    "net = net.cuda()\n",
    "\n",
    "optim = torch.optim.Adam(net.parameters(), lr=1e-3)\n",
    "for it in range(5000):\n",
    "    optim.zero_grad()\n",
    "    loss = abs(net(position) - rose_tensor).mean()\n",
    "    if it % 100 == 0:\n",
    "        print(float(loss))\n",
    "    loss.backward()\n",
    "    optim.step()\n",
    "\n",
    "Image.fromarray(((net(position) + 0.5).clamp(0, 1) * 255).cpu().to(torch.uint8).numpy())"
   ]
  },
  {
   "cell_type": "code",
   "execution_count": null,
   "id": "8327b093",
   "metadata": {
    "execution": {
     "iopub.execute_input": "2024-06-09T08:36:21.752576Z",
     "iopub.status.busy": "2024-06-09T08:36:21.752321Z",
     "iopub.status.idle": "2024-06-09T08:36:21.757823Z",
     "shell.execute_reply": "2024-06-09T08:36:21.757371Z"
    }
   },
   "outputs": [],
   "source": [
    "im_small"
   ]
  },
  {
   "cell_type": "code",
   "execution_count": null,
   "id": "b89a1ba6",
   "metadata": {
    "execution": {
     "iopub.execute_input": "2024-06-09T08:36:21.759864Z",
     "iopub.status.busy": "2024-06-09T08:36:21.759690Z",
     "iopub.status.idle": "2024-06-09T08:36:21.950524Z",
     "shell.execute_reply": "2024-06-09T08:36:21.950021Z"
    }
   },
   "outputs": [],
   "source": [
    "position_hires = torch.stack(torch.meshgrid(torch.linspace(-1, 1, 1024), torch.linspace(-1, 1, 1024)), dim=-1).cuda()\n",
    "\n",
    "Image.fromarray(((net(position_hires) + 0.5).clamp(0, 1) * 255).cpu().to(torch.uint8).numpy())"
   ]
  },
  {
   "cell_type": "code",
   "execution_count": null,
   "id": "b8361ad3",
   "metadata": {},
   "outputs": [],
   "source": []
  }
 ],
 "metadata": {
  "kernelspec": {
   "display_name": "base",
   "language": "python",
   "name": "python3"
  },
  "language_info": {
   "codemirror_mode": {
    "name": "ipython",
    "version": 3
   },
   "file_extension": ".py",
   "mimetype": "text/x-python",
   "name": "python",
   "nbconvert_exporter": "python",
   "pygments_lexer": "ipython3",
   "version": "3.11.5"
  }
 },
 "nbformat": 4,
 "nbformat_minor": 5
}
